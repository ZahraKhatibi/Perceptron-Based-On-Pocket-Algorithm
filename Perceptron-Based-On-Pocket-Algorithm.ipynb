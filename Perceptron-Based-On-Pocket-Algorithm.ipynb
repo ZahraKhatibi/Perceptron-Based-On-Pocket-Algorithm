{
 "cells": [
  {
   "cell_type": "code",
   "execution_count": 221,
   "metadata": {},
   "outputs": [],
   "source": [
    "import pandas as pd \n",
    "import numpy as np\n",
    "import matplotlib.pyplot as plt\n",
    "from numpy.random import randint"
   ]
  },
  {
   "cell_type": "code",
   "execution_count": 222,
   "metadata": {},
   "outputs": [],
   "source": [
    "train_df = pd.read_csv(\"train.csv\")\n",
    "test_df = pd.read_csv(\"test.csv\")"
   ]
  },
  {
   "cell_type": "code",
   "execution_count": 223,
   "metadata": {},
   "outputs": [
    {
     "data": {
      "text/html": [
       "<div>\n",
       "<style scoped>\n",
       "    .dataframe tbody tr th:only-of-type {\n",
       "        vertical-align: middle;\n",
       "    }\n",
       "\n",
       "    .dataframe tbody tr th {\n",
       "        vertical-align: top;\n",
       "    }\n",
       "\n",
       "    .dataframe thead th {\n",
       "        text-align: right;\n",
       "    }\n",
       "</style>\n",
       "<table border=\"1\" class=\"dataframe\">\n",
       "  <thead>\n",
       "    <tr style=\"text-align: right;\">\n",
       "      <th></th>\n",
       "      <th>x1</th>\n",
       "      <th>x2</th>\n",
       "      <th>target</th>\n",
       "    </tr>\n",
       "  </thead>\n",
       "  <tbody>\n",
       "    <tr>\n",
       "      <th>0</th>\n",
       "      <td>0.525642</td>\n",
       "      <td>0.133813</td>\n",
       "      <td>1.0</td>\n",
       "    </tr>\n",
       "    <tr>\n",
       "      <th>1</th>\n",
       "      <td>1.009394</td>\n",
       "      <td>0.925323</td>\n",
       "      <td>1.0</td>\n",
       "    </tr>\n",
       "    <tr>\n",
       "      <th>2</th>\n",
       "      <td>0.776517</td>\n",
       "      <td>-0.252655</td>\n",
       "      <td>1.0</td>\n",
       "    </tr>\n",
       "    <tr>\n",
       "      <th>3</th>\n",
       "      <td>-0.245693</td>\n",
       "      <td>-0.872614</td>\n",
       "      <td>0.0</td>\n",
       "    </tr>\n",
       "    <tr>\n",
       "      <th>4</th>\n",
       "      <td>-1.540663</td>\n",
       "      <td>-0.048947</td>\n",
       "      <td>0.0</td>\n",
       "    </tr>\n",
       "    <tr>\n",
       "      <th>...</th>\n",
       "      <td>...</td>\n",
       "      <td>...</td>\n",
       "      <td>...</td>\n",
       "    </tr>\n",
       "    <tr>\n",
       "      <th>145</th>\n",
       "      <td>0.887016</td>\n",
       "      <td>-0.254848</td>\n",
       "      <td>1.0</td>\n",
       "    </tr>\n",
       "    <tr>\n",
       "      <th>146</th>\n",
       "      <td>-0.240418</td>\n",
       "      <td>-0.252660</td>\n",
       "      <td>0.0</td>\n",
       "    </tr>\n",
       "    <tr>\n",
       "      <th>147</th>\n",
       "      <td>-1.583462</td>\n",
       "      <td>-1.149453</td>\n",
       "      <td>0.0</td>\n",
       "    </tr>\n",
       "    <tr>\n",
       "      <th>148</th>\n",
       "      <td>-1.009593</td>\n",
       "      <td>0.135440</td>\n",
       "      <td>0.0</td>\n",
       "    </tr>\n",
       "    <tr>\n",
       "      <th>149</th>\n",
       "      <td>-1.190529</td>\n",
       "      <td>-0.671737</td>\n",
       "      <td>0.0</td>\n",
       "    </tr>\n",
       "  </tbody>\n",
       "</table>\n",
       "<p>150 rows × 3 columns</p>\n",
       "</div>"
      ],
      "text/plain": [
       "           x1        x2  target\n",
       "0    0.525642  0.133813     1.0\n",
       "1    1.009394  0.925323     1.0\n",
       "2    0.776517 -0.252655     1.0\n",
       "3   -0.245693 -0.872614     0.0\n",
       "4   -1.540663 -0.048947     0.0\n",
       "..        ...       ...     ...\n",
       "145  0.887016 -0.254848     1.0\n",
       "146 -0.240418 -0.252660     0.0\n",
       "147 -1.583462 -1.149453     0.0\n",
       "148 -1.009593  0.135440     0.0\n",
       "149 -1.190529 -0.671737     0.0\n",
       "\n",
       "[150 rows x 3 columns]"
      ]
     },
     "execution_count": 223,
     "metadata": {},
     "output_type": "execute_result"
    }
   ],
   "source": [
    "train_df"
   ]
  },
  {
   "cell_type": "code",
   "execution_count": 224,
   "metadata": {},
   "outputs": [
    {
     "data": {
      "text/plain": [
       "Text(0.5, 1.0, 'Train Data')"
      ]
     },
     "execution_count": 224,
     "metadata": {},
     "output_type": "execute_result"
    },
    {
     "data": {
      "image/png": "[encoded data removed]",
      "text/plain": [
       "<Figure size 576x432 with 1 Axes>"
      ]
     },
     "metadata": {
      "needs_background": "light"
     },
     "output_type": "display_data"
    }
   ],
   "source": [
    "plt.figure(figsize=(8,6))\n",
    "for i in range(len(train_df['x1'])):\n",
    "    plt.plot(train_df['x1'][i],train_df['x2'][i], 'o', color =['#DC143C' if train_df['target'][i]==1 else '#CD950C'][0])\n",
    "plt.xlabel(\"X1\", size = 16)\n",
    "plt.ylabel(\"X2\", size = 16)\n",
    "plt.title(\"Train Data\")"
   ]
  },
  {
   "cell_type": "markdown",
   "metadata": {},
   "source": [
    "# Perceptron based on Pocket Algorithm"
   ]
  },
  {
   "cell_type": "code",
   "execution_count": 225,
   "metadata": {},
   "outputs": [
    {
     "data": {
      "text/html": [
       "<div>\n",
       "<style scoped>\n",
       "    .dataframe tbody tr th:only-of-type {\n",
       "        vertical-align: middle;\n",
       "    }\n",
       "\n",
       "    .dataframe tbody tr th {\n",
       "        vertical-align: top;\n",
       "    }\n",
       "\n",
       "    .dataframe thead th {\n",
       "        text-align: right;\n",
       "    }\n",
       "</style>\n",
       "<table border=\"1\" class=\"dataframe\">\n",
       "  <thead>\n",
       "    <tr style=\"text-align: right;\">\n",
       "      <th></th>\n",
       "      <th>x1</th>\n",
       "      <th>x2</th>\n",
       "      <th>target</th>\n",
       "    </tr>\n",
       "  </thead>\n",
       "  <tbody>\n",
       "    <tr>\n",
       "      <th>0</th>\n",
       "      <td>0.525642</td>\n",
       "      <td>0.133813</td>\n",
       "      <td>1.0</td>\n",
       "    </tr>\n",
       "    <tr>\n",
       "      <th>1</th>\n",
       "      <td>1.009394</td>\n",
       "      <td>0.925323</td>\n",
       "      <td>1.0</td>\n",
       "    </tr>\n",
       "    <tr>\n",
       "      <th>2</th>\n",
       "      <td>0.776517</td>\n",
       "      <td>-0.252655</td>\n",
       "      <td>1.0</td>\n",
       "    </tr>\n",
       "    <tr>\n",
       "      <th>3</th>\n",
       "      <td>-0.245693</td>\n",
       "      <td>-0.872614</td>\n",
       "      <td>-1.0</td>\n",
       "    </tr>\n",
       "    <tr>\n",
       "      <th>4</th>\n",
       "      <td>-1.540663</td>\n",
       "      <td>-0.048947</td>\n",
       "      <td>-1.0</td>\n",
       "    </tr>\n",
       "    <tr>\n",
       "      <th>...</th>\n",
       "      <td>...</td>\n",
       "      <td>...</td>\n",
       "      <td>...</td>\n",
       "    </tr>\n",
       "    <tr>\n",
       "      <th>145</th>\n",
       "      <td>0.887016</td>\n",
       "      <td>-0.254848</td>\n",
       "      <td>1.0</td>\n",
       "    </tr>\n",
       "    <tr>\n",
       "      <th>146</th>\n",
       "      <td>-0.240418</td>\n",
       "      <td>-0.252660</td>\n",
       "      <td>-1.0</td>\n",
       "    </tr>\n",
       "    <tr>\n",
       "      <th>147</th>\n",
       "      <td>-1.583462</td>\n",
       "      <td>-1.149453</td>\n",
       "      <td>-1.0</td>\n",
       "    </tr>\n",
       "    <tr>\n",
       "      <th>148</th>\n",
       "      <td>-1.009593</td>\n",
       "      <td>0.135440</td>\n",
       "      <td>-1.0</td>\n",
       "    </tr>\n",
       "    <tr>\n",
       "      <th>149</th>\n",
       "      <td>-1.190529</td>\n",
       "      <td>-0.671737</td>\n",
       "      <td>-1.0</td>\n",
       "    </tr>\n",
       "  </tbody>\n",
       "</table>\n",
       "<p>150 rows × 3 columns</p>\n",
       "</div>"
      ],
      "text/plain": [
       "           x1        x2  target\n",
       "0    0.525642  0.133813     1.0\n",
       "1    1.009394  0.925323     1.0\n",
       "2    0.776517 -0.252655     1.0\n",
       "3   -0.245693 -0.872614    -1.0\n",
       "4   -1.540663 -0.048947    -1.0\n",
       "..        ...       ...     ...\n",
       "145  0.887016 -0.254848     1.0\n",
       "146 -0.240418 -0.252660    -1.0\n",
       "147 -1.583462 -1.149453    -1.0\n",
       "148 -1.009593  0.135440    -1.0\n",
       "149 -1.190529 -0.671737    -1.0\n",
       "\n",
       "[150 rows x 3 columns]"
      ]
     },
     "execution_count": 225,
     "metadata": {},
     "output_type": "execute_result"
    }
   ],
   "source": [
    "for i in range(len(train_df['target'])):\n",
    "    if train_df['target'][i] == 0:\n",
    "        train_df.loc[i,'target'] = -1\n",
    "train_df"
   ]
  },
  {
   "cell_type": "code",
   "execution_count": 255,
   "metadata": {},
   "outputs": [],
   "source": [
    "x_train = train_df[['x1','x2']]\n",
    "y_train = train_df['target']"
   ]
  },
  {
   "cell_type": "code",
   "execution_count": 256,
   "metadata": {},
   "outputs": [],
   "source": [
    "number_of_iteration = 1000\n",
    "alpha = 0.1\n",
    "weights = randint(-10, 10, 2)\n",
    "best_weights = weights\n",
    "iteration = 0\n",
    "mis_classifications = 150"
   ]
  },
  {
   "cell_type": "code",
   "execution_count": 293,
   "metadata": {},
   "outputs": [],
   "source": [
    "def perceptron_pocket(x_data, y_data , number_of_iteration, alpha):\n",
    "    weights = randint(-10, 10, 2)\n",
    "    bias = 0\n",
    "    best_bias = bias\n",
    "    best_weights = weights\n",
    "    iteration = 0\n",
    "    mis_classifications = len(y_data.to_numpy())\n",
    "    best_mis_classifications = mis_classifications\n",
    "    while (mis_classifications>0 and iteration < number_of_iteration):      \n",
    "        mis_classifications = len(y_data.to_numpy())\n",
    "        \n",
    "        for x,y in zip(x_data.to_numpy(),y_data.to_numpy()):\n",
    "            if y * np.sign(np.dot(x, weights) + bias) <= 0:\n",
    "                weights = alpha * x * y\n",
    "                bias += alpha * y\n",
    "            else:\n",
    "                mis_classifications -= 1\n",
    "                \n",
    "            if mis_classifications < best_mis_classifications:\n",
    "                best_weights = weights.copy()\n",
    "                best_bias = bias\n",
    "                best_mis_classifications = mis_classifications \n",
    "                \n",
    "        iteration +=1 \n",
    "        weights = best_weights\n",
    "        bias = best_bias\n",
    "        \n",
    "    return best_weights , best_bias\n",
    "    "
   ]
  },
  {
   "cell_type": "code",
   "execution_count": 294,
   "metadata": {},
   "outputs": [],
   "source": [
    "def test_accuracy(x_data, y_data , weights, bias):\n",
    "        return round(sum(np.sign(np.dot(x_data.to_numpy(), weights) + bias)*y_data)*100/len(y_data.to_numpy()),2)"
   ]
  },
  {
   "cell_type": "code",
   "execution_count": 295,
   "metadata": {},
   "outputs": [],
   "source": [
    "b_weights , b_bias = perceptron_pocket(x_train, y_train, 1000 , 0.01)"
   ]
  },
  {
   "cell_type": "code",
   "execution_count": 297,
   "metadata": {},
   "outputs": [
    {
     "data": {
      "text/plain": [
       "[<matplotlib.lines.Line2D at 0x25fd9a0dd00>,\n",
       " <matplotlib.lines.Line2D at 0x25fd9a0dee0>]"
      ]
     },
     "execution_count": 297,
     "metadata": {},
     "output_type": "execute_result"
    },
    {
     "data": {
      "image/png": "[encoded data removed]",
      "text/plain": [
       "<Figure size 576x432 with 1 Axes>"
      ]
     },
     "metadata": {
      "needs_background": "light"
     },
     "output_type": "display_data"
    }
   ],
   "source": []
  },
  {
   "cell_type": "code",
   "execution_count": 298,
   "metadata": {},
   "outputs": [
    {
     "data": {
      "text/plain": [
       "88.0"
      ]
     },
     "execution_count": 298,
     "metadata": {},
     "output_type": "execute_result"
    }
   ],
   "source": [
    "test_accuracy(x_train, y_train , b_weights, b_bias)"
   ]
  },
  {
   "cell_type": "code",
   "execution_count": null,
   "metadata": {},
   "outputs": [],
   "source": []
  },
  {
   "cell_type": "code",
   "execution_count": null,
   "metadata": {},
   "outputs": [],
   "source": []
  }
 ],
 "metadata": {
  "kernelspec": {
   "display_name": "Python 3",
   "language": "python",
   "name": "python3"
  },
  "language_info": {
   "codemirror_mode": {
    "name": "ipython",
    "version": 3
   },
   "file_extension": ".py",
   "mimetype": "text/x-python",
   "name": "python",
   "nbconvert_exporter": "python",
   "pygments_lexer": "ipython3",
   "version": "3.8.3"
  }
 },
 "nbformat": 4,
 "nbformat_minor": 4
}

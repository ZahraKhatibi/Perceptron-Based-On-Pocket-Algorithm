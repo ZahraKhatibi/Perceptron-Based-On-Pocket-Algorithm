{
 "cells": [
  {
   "cell_type": "markdown",
   "metadata": {},
   "source": [
    "# Zahra khatibi - 610398119 - Mini Project 1\n",
    "# Email: Zahrakhatibiiii@gmail.com"
   ]
  },
  {
   "cell_type": "markdown",
   "metadata": {},
   "source": [
    "## import some libraries"
   ]
  },
  {
   "cell_type": "code",
   "execution_count": 17,
   "metadata": {},
   "outputs": [],
   "source": [
    "import pandas as pd \n",
    "import numpy as np\n",
    "import matplotlib.pyplot as plt\n",
    "from numpy.random import randint"
   ]
  },
  {
   "cell_type": "markdown",
   "metadata": {},
   "source": [
    "## read data from csv"
   ]
  },
  {
   "cell_type": "code",
   "execution_count": 2,
   "metadata": {},
   "outputs": [],
   "source": [
    "train_df = pd.read_csv(\"train.csv\")\n",
    "test_df = pd.read_csv(\"test.csv\")"
   ]
  },
  {
   "cell_type": "code",
   "execution_count": 3,
   "metadata": {},
   "outputs": [
    {
     "data": {
      "text/html": [
       "<div>\n",
       "<style scoped>\n",
       "    .dataframe tbody tr th:only-of-type {\n",
       "        vertical-align: middle;\n",
       "    }\n",
       "\n",
       "    .dataframe tbody tr th {\n",
       "        vertical-align: top;\n",
       "    }\n",
       "\n",
       "    .dataframe thead th {\n",
       "        text-align: right;\n",
       "    }\n",
       "</style>\n",
       "<table border=\"1\" class=\"dataframe\">\n",
       "  <thead>\n",
       "    <tr style=\"text-align: right;\">\n",
       "      <th></th>\n",
       "      <th>x1</th>\n",
       "      <th>x2</th>\n",
       "      <th>target</th>\n",
       "    </tr>\n",
       "  </thead>\n",
       "  <tbody>\n",
       "    <tr>\n",
       "      <th>0</th>\n",
       "      <td>0.525642</td>\n",
       "      <td>0.133813</td>\n",
       "      <td>1.0</td>\n",
       "    </tr>\n",
       "    <tr>\n",
       "      <th>1</th>\n",
       "      <td>1.009394</td>\n",
       "      <td>0.925323</td>\n",
       "      <td>1.0</td>\n",
       "    </tr>\n",
       "    <tr>\n",
       "      <th>2</th>\n",
       "      <td>0.776517</td>\n",
       "      <td>-0.252655</td>\n",
       "      <td>1.0</td>\n",
       "    </tr>\n",
       "    <tr>\n",
       "      <th>3</th>\n",
       "      <td>-0.245693</td>\n",
       "      <td>-0.872614</td>\n",
       "      <td>0.0</td>\n",
       "    </tr>\n",
       "    <tr>\n",
       "      <th>4</th>\n",
       "      <td>-1.540663</td>\n",
       "      <td>-0.048947</td>\n",
       "      <td>0.0</td>\n",
       "    </tr>\n",
       "    <tr>\n",
       "      <th>5</th>\n",
       "      <td>-0.369100</td>\n",
       "      <td>1.772460</td>\n",
       "      <td>0.0</td>\n",
       "    </tr>\n",
       "    <tr>\n",
       "      <th>6</th>\n",
       "      <td>-1.780394</td>\n",
       "      <td>0.503660</td>\n",
       "      <td>0.0</td>\n",
       "    </tr>\n",
       "    <tr>\n",
       "      <th>7</th>\n",
       "      <td>-0.541349</td>\n",
       "      <td>-0.289898</td>\n",
       "      <td>0.0</td>\n",
       "    </tr>\n",
       "    <tr>\n",
       "      <th>8</th>\n",
       "      <td>0.146786</td>\n",
       "      <td>1.057387</td>\n",
       "      <td>0.0</td>\n",
       "    </tr>\n",
       "    <tr>\n",
       "      <th>9</th>\n",
       "      <td>-0.968378</td>\n",
       "      <td>0.723859</td>\n",
       "      <td>0.0</td>\n",
       "    </tr>\n",
       "  </tbody>\n",
       "</table>\n",
       "</div>"
      ],
      "text/plain": [
       "         x1        x2  target\n",
       "0  0.525642  0.133813     1.0\n",
       "1  1.009394  0.925323     1.0\n",
       "2  0.776517 -0.252655     1.0\n",
       "3 -0.245693 -0.872614     0.0\n",
       "4 -1.540663 -0.048947     0.0\n",
       "5 -0.369100  1.772460     0.0\n",
       "6 -1.780394  0.503660     0.0\n",
       "7 -0.541349 -0.289898     0.0\n",
       "8  0.146786  1.057387     0.0\n",
       "9 -0.968378  0.723859     0.0"
      ]
     },
     "execution_count": 3,
     "metadata": {},
     "output_type": "execute_result"
    }
   ],
   "source": [
    "train_df.head(10)"
   ]
  },
  {
   "cell_type": "code",
   "execution_count": 25,
   "metadata": {},
   "outputs": [],
   "source": [
    "def draw_plot(df, text):\n",
    "    plt.figure(figsize=(8,6))\n",
    "    for i in range(len(df['x1'])):\n",
    "        plt.plot(df['x1'][i],train_df['x2'][i], 'o', color =['#DC143C' if df['target'][i]==1 else '#CD950C'][0])\n",
    "    plt.xlabel(\"X1\", size = 16)\n",
    "    plt.ylabel(\"X2\", size = 16)\n",
    "    plt.title(text)"
   ]
  },
  {
   "cell_type": "markdown",
   "metadata": {},
   "source": [
    "## Plot of data"
   ]
  },
  {
   "cell_type": "code",
   "execution_count": 26,
   "metadata": {},
   "outputs": [
    {
     "data": {
      "image/png": "[encoded data removed]",
      "text/plain": [
       "<Figure size 576x432 with 1 Axes>"
      ]
     },
     "metadata": {
      "needs_background": "light"
     },
     "output_type": "display_data"
    }
   ],
   "source": [
    "draw_plot(train_df, \"Train Data\")"
   ]
  },
  {
   "cell_type": "markdown",
   "metadata": {},
   "source": [
    "## convert target 0 to 1"
   ]
  },
  {
   "cell_type": "code",
   "execution_count": 27,
   "metadata": {},
   "outputs": [
    {
     "data": {
      "text/html": [
       "<div>\n",
       "<style scoped>\n",
       "    .dataframe tbody tr th:only-of-type {\n",
       "        vertical-align: middle;\n",
       "    }\n",
       "\n",
       "    .dataframe tbody tr th {\n",
       "        vertical-align: top;\n",
       "    }\n",
       "\n",
       "    .dataframe thead th {\n",
       "        text-align: right;\n",
       "    }\n",
       "</style>\n",
       "<table border=\"1\" class=\"dataframe\">\n",
       "  <thead>\n",
       "    <tr style=\"text-align: right;\">\n",
       "      <th></th>\n",
       "      <th>x1</th>\n",
       "      <th>x2</th>\n",
       "      <th>target</th>\n",
       "    </tr>\n",
       "  </thead>\n",
       "  <tbody>\n",
       "    <tr>\n",
       "      <th>0</th>\n",
       "      <td>0.525642</td>\n",
       "      <td>0.133813</td>\n",
       "      <td>1.0</td>\n",
       "    </tr>\n",
       "    <tr>\n",
       "      <th>1</th>\n",
       "      <td>1.009394</td>\n",
       "      <td>0.925323</td>\n",
       "      <td>1.0</td>\n",
       "    </tr>\n",
       "    <tr>\n",
       "      <th>2</th>\n",
       "      <td>0.776517</td>\n",
       "      <td>-0.252655</td>\n",
       "      <td>1.0</td>\n",
       "    </tr>\n",
       "    <tr>\n",
       "      <th>3</th>\n",
       "      <td>-0.245693</td>\n",
       "      <td>-0.872614</td>\n",
       "      <td>-1.0</td>\n",
       "    </tr>\n",
       "    <tr>\n",
       "      <th>4</th>\n",
       "      <td>-1.540663</td>\n",
       "      <td>-0.048947</td>\n",
       "      <td>-1.0</td>\n",
       "    </tr>\n",
       "  </tbody>\n",
       "</table>\n",
       "</div>"
      ],
      "text/plain": [
       "         x1        x2  target\n",
       "0  0.525642  0.133813     1.0\n",
       "1  1.009394  0.925323     1.0\n",
       "2  0.776517 -0.252655     1.0\n",
       "3 -0.245693 -0.872614    -1.0\n",
       "4 -1.540663 -0.048947    -1.0"
      ]
     },
     "execution_count": 27,
     "metadata": {},
     "output_type": "execute_result"
    }
   ],
   "source": [
    "for i in range(len(train_df['target'])):\n",
    "    if train_df['target'][i] == 0:\n",
    "        train_df.loc[i,'target'] = -1\n",
    "train_df.head()"
   ]
  },
  {
   "cell_type": "code",
   "execution_count": 28,
   "metadata": {},
   "outputs": [],
   "source": [
    "x_train = train_df[['x1','x2']]\n",
    "y_train = train_df['target']"
   ]
  },
  {
   "cell_type": "code",
   "execution_count": 29,
   "metadata": {},
   "outputs": [
    {
     "data": {
      "text/html": [
       "<div>\n",
       "<style scoped>\n",
       "    .dataframe tbody tr th:only-of-type {\n",
       "        vertical-align: middle;\n",
       "    }\n",
       "\n",
       "    .dataframe tbody tr th {\n",
       "        vertical-align: top;\n",
       "    }\n",
       "\n",
       "    .dataframe thead th {\n",
       "        text-align: right;\n",
       "    }\n",
       "</style>\n",
       "<table border=\"1\" class=\"dataframe\">\n",
       "  <thead>\n",
       "    <tr style=\"text-align: right;\">\n",
       "      <th></th>\n",
       "      <th>x1</th>\n",
       "      <th>x2</th>\n",
       "      <th>target</th>\n",
       "    </tr>\n",
       "  </thead>\n",
       "  <tbody>\n",
       "    <tr>\n",
       "      <th>0</th>\n",
       "      <td>-0.723805</td>\n",
       "      <td>0.798472</td>\n",
       "      <td>-1.0</td>\n",
       "    </tr>\n",
       "    <tr>\n",
       "      <th>1</th>\n",
       "      <td>1.393432</td>\n",
       "      <td>-0.617441</td>\n",
       "      <td>1.0</td>\n",
       "    </tr>\n",
       "    <tr>\n",
       "      <th>2</th>\n",
       "      <td>1.018925</td>\n",
       "      <td>0.970799</td>\n",
       "      <td>1.0</td>\n",
       "    </tr>\n",
       "    <tr>\n",
       "      <th>3</th>\n",
       "      <td>0.934384</td>\n",
       "      <td>0.568916</td>\n",
       "      <td>1.0</td>\n",
       "    </tr>\n",
       "    <tr>\n",
       "      <th>4</th>\n",
       "      <td>1.218155</td>\n",
       "      <td>0.393373</td>\n",
       "      <td>1.0</td>\n",
       "    </tr>\n",
       "  </tbody>\n",
       "</table>\n",
       "</div>"
      ],
      "text/plain": [
       "         x1        x2  target\n",
       "0 -0.723805  0.798472    -1.0\n",
       "1  1.393432 -0.617441     1.0\n",
       "2  1.018925  0.970799     1.0\n",
       "3  0.934384  0.568916     1.0\n",
       "4  1.218155  0.393373     1.0"
      ]
     },
     "execution_count": 29,
     "metadata": {},
     "output_type": "execute_result"
    }
   ],
   "source": [
    "for i in range(len(test_df['target'])):\n",
    "    if test_df['target'][i] == 0:\n",
    "        test_df.loc[i,'target'] = -1\n",
    "test_df.head()"
   ]
  },
  {
   "cell_type": "code",
   "execution_count": 30,
   "metadata": {},
   "outputs": [],
   "source": [
    "x_test = test_df[['x1','x2']]\n",
    "y_test = test_df['target']"
   ]
  },
  {
   "cell_type": "markdown",
   "metadata": {},
   "source": [
    "# Perceptron based on Pocket Algorithm"
   ]
  },
  {
   "cell_type": "code",
   "execution_count": 31,
   "metadata": {},
   "outputs": [],
   "source": [
    "def perceptron_pocket(x_data, y_data , number_of_iteration=300, alpha=0.005):\n",
    "    weights = np.zeros(x_data.shape[1])\n",
    "    weights = weights.astype('float64')\n",
    "    bias = 0\n",
    "    best_bias = bias\n",
    "    best_weights = weights\n",
    "    iteration = 0\n",
    "    mis_classifications = len(y_data)\n",
    "    best_mis_classifications = mis_classifications\n",
    "    while (mis_classifications!=0 and iteration < number_of_iteration):      \n",
    "        mis_classifications = len(y_data)\n",
    "        for x,y in zip(x_data.to_numpy(),y_data):\n",
    "            if y != np.sign(x@weights + bias):\n",
    "                weights += alpha * x * y\n",
    "                bias += alpha * y\n",
    "            else:\n",
    "                mis_classifications -= 1\n",
    "                \n",
    "        if mis_classifications < best_mis_classifications:\n",
    "            best_weights = weights.copy()\n",
    "            best_bias = bias\n",
    "            best_mis_classifications = mis_classifications \n",
    "                \n",
    "        iteration +=1 \n",
    "        \n",
    "    return best_weights , best_bias"
   ]
  },
  {
   "cell_type": "markdown",
   "metadata": {},
   "source": [
    "### This Function calculates count of misclassifications data and we use to calculating of Accuracy"
   ]
  },
  {
   "cell_type": "code",
   "execution_count": 32,
   "metadata": {},
   "outputs": [],
   "source": [
    "def miss_calc(x_test,y_test,weights,bias):\n",
    "    mis_classifications = len(y_test)\n",
    "    for x,y in zip(x_test.to_numpy(),y_test):\n",
    "        if y != np.sign(x@weights + bias):\n",
    "            pass\n",
    "        else:\n",
    "            mis_classifications -= 1\n",
    "    return mis_classifications"
   ]
  },
  {
   "cell_type": "markdown",
   "metadata": {},
   "source": [
    "# Run model on Train Data"
   ]
  },
  {
   "cell_type": "code",
   "execution_count": 33,
   "metadata": {},
   "outputs": [],
   "source": [
    "b_weights , b_bias = perceptron_pocket(x_train, y_train, 1000 , 0.1)"
   ]
  },
  {
   "cell_type": "markdown",
   "metadata": {},
   "source": [
    "# Plot of Train Data and Separator Line"
   ]
  },
  {
   "cell_type": "code",
   "execution_count": 34,
   "metadata": {},
   "outputs": [
    {
     "name": "stdout",
     "output_type": "stream",
     "text": [
      "Count of misclassification data : 7\n",
      "Accuracy is : 95 %\n"
     ]
    },
    {
     "data": {
      "image/png": "[encoded data removed]",
      "text/plain": [
       "<Figure size 576x432 with 1 Axes>"
      ]
     },
     "metadata": {
      "needs_background": "light"
     },
     "output_type": "display_data"
    }
   ],
   "source": [
    "draw_plot(train_df, \"Train Data\")\n",
    "y = (b_weights[0] * np.array([-1,1]) + b_bias) / b_weights[1]\n",
    "plt.plot( np.array([-1,1]) ,y )\n",
    "err =  miss_calc(x_train,y_train,b_weights,b_bias)\n",
    "print(\"Count of misclassification data :\" , err)\n",
    "print(\"Accuracy is :\" , round((len(y_train) - err) / len(y_train) * 100) ,\"%\")"
   ]
  },
  {
   "cell_type": "markdown",
   "metadata": {},
   "source": [
    "# Plot of Test Data and Separator Line"
   ]
  },
  {
   "cell_type": "code",
   "execution_count": 35,
   "metadata": {},
   "outputs": [
    {
     "name": "stdout",
     "output_type": "stream",
     "text": [
      "Count of misclassification data : 1\n",
      "Accuracy is : 98 %\n"
     ]
    },
    {
     "data": {
      "image/png": "[encoded data removed]",
      "text/plain": [
       "<Figure size 576x432 with 1 Axes>"
      ]
     },
     "metadata": {
      "needs_background": "light"
     },
     "output_type": "display_data"
    }
   ],
   "source": [
    "draw_plot(test_df, \"Test Data\")\n",
    "y = (b_weights[0] * np.array([-1,1]) + b_bias) / b_weights[1]\n",
    "plt.plot( np.array([-1,1]) ,y )\n",
    "err =  miss_calc(x_test,y_test,b_weights,b_bias)\n",
    "print(\"Count of misclassification data :\" , err)\n",
    "print(\"Accuracy is :\" , round((len(y_test) - err) / len(y_test) * 100) ,\"%\" )"
   ]
  },
  {
   "cell_type": "markdown",
   "metadata": {},
   "source": [
    "# END"
   ]
  }
 ],
 "metadata": {
  "kernelspec": {
   "display_name": "Python 3",
   "language": "python",
   "name": "python3"
  },
  "language_info": {
   "codemirror_mode": {
    "name": "ipython",
    "version": 3
   },
   "file_extension": ".py",
   "mimetype": "text/x-python",
   "name": "python",
   "nbconvert_exporter": "python",
   "pygments_lexer": "ipython3",
   "version": "3.8.3"
  }
 },
 "nbformat": 4,
 "nbformat_minor": 4
}
